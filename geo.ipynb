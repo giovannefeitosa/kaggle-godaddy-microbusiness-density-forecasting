{
 "cells": [
  {
   "attachments": {},
   "cell_type": "markdown",
   "metadata": {},
   "source": [
    "# GEO notebook\n",
    "\n",
    "This notebook explains how the `utils.usgeoutils` can be used to get the latitude and longitude of all counties in the US."
   ]
  },
  {
   "cell_type": "code",
   "execution_count": 2,
   "metadata": {},
   "outputs": [
    {
     "name": "stdout",
     "output_type": "stream",
     "text": [
      "load\n"
     ]
    }
   ],
   "source": [
    "from src.utils.usgeoutils import usgeo\n",
    "\n",
    "# load dataset\n",
    "usgeo.load()"
   ]
  },
  {
   "cell_type": "code",
   "execution_count": 7,
   "metadata": {},
   "outputs": [
    {
     "data": {
      "text/plain": [
       "array([ 32.5084383, -86.658643 ])"
      ]
     },
     "execution_count": 7,
     "metadata": {},
     "output_type": "execute_result"
    }
   ],
   "source": [
    "import numpy as np\n",
    "\n",
    "# coords is a list of coordinates in the form [lon, lat]\n",
    "coords = [\n",
    "   [-86.496774,32.344437],\n",
    "   [-86.717897,32.402814],\n",
    "   [-86.814912,32.340803],\n",
    "   [-86.890581,32.502974],\n",
    "   [-86.917595,32.664169],\n",
    "   [-86.71339,32.661732],\n",
    "   [-86.714219,32.705694],\n",
    "   [-86.413116,32.707386],\n",
    "   [-86.411172,32.409937],\n",
    "   [-86.496774,32.344437]\n",
    "]\n",
    "\n",
    "# convert to numpy\n",
    "coords = np.array(coords)\n",
    "\n",
    "def get_coords_centroid(coords):\n",
    "      # get the centroid of the coordinates\n",
    "      centroid = np.mean(coords, axis=0)\n",
    "      return centroid\n",
    "\n",
    "# the return is [lon, lat] but we want [lat, lon]\n",
    "# use get_coords_centroid(coords)\n",
    "get_coords_centroid(coords)[::-1]"
   ]
  },
  {
   "cell_type": "code",
   "execution_count": 15,
   "metadata": {},
   "outputs": [
    {
     "data": {
      "text/plain": [
       "2"
      ]
     },
     "execution_count": 15,
     "metadata": {},
     "output_type": "execute_result"
    }
   ],
   "source": [
    "import numpy as np\n",
    "\n",
    "coordinates = [\n",
    "  [\n",
    "    [\n",
    "      [1,2],\n",
    "      [3,4],\n",
    "      [5,6],\n",
    "    ]\n",
    "  ],\n",
    "  [\n",
    "    [\n",
    "      [7,8],\n",
    "      [9,10],\n",
    "      [11,12],\n",
    "    ]\n",
    "  ]\n",
    "]\n",
    "\n",
    "arr = np.array(coordinates)\n",
    "len(arr)"
   ]
  }
 ],
 "metadata": {
  "kernelspec": {
   "display_name": "Python 3",
   "language": "python",
   "name": "python3"
  },
  "language_info": {
   "codemirror_mode": {
    "name": "ipython",
    "version": 3
   },
   "file_extension": ".py",
   "mimetype": "text/x-python",
   "name": "python",
   "nbconvert_exporter": "python",
   "pygments_lexer": "ipython3",
   "version": "3.10.6"
  },
  "orig_nbformat": 4,
  "vscode": {
   "interpreter": {
    "hash": "916dbcbb3f70747c44a77c7bcd40155683ae19c65e1c03b4aa3499c5328201f1"
   }
  }
 },
 "nbformat": 4,
 "nbformat_minor": 2
}
