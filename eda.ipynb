{
 "cells": [
  {
   "attachments": {},
   "cell_type": "markdown",
   "metadata": {},
   "source": [
    "# Exploratory Data Analysis\n",
    "\n",
    "I will try to answer the following questions:\n",
    "\n",
    "* Which columns from `train.csv` are going to be used for training?\n",
    "* What is the distribution of the target variable?\n",
    "* Who are the outliers and what to do with them?\n",
    "* Which external datasets can we use?\n",
    "* How can we use the external datasets to predict the target variable for the test set and submission?\n",
    "\n",
    "Useful resources:\n",
    "\n",
    "* [Detailed EDA - problem decomposition & GIS](https://www.kaggle.com/code/datark1/detailed-eda-problem-decomposition-gis) exploratory data analysis notebook\n",
    "* [GoDaddy Better EDA XGB baseline](https://www.kaggle.com/code/eishkaran/godaddy-better-eda-xgb-baseline) this is a good baseline for making my analysis\n",
    "* [Outliers - is there anything to learn from them?](https://www.kaggle.com/competitions/godaddy-microbusiness-density-forecasting/discussion/373149#2098794) - discussion about outliers\n",
    "* [The Top Notebook - Explained](https://www.kaggle.com/competitions/godaddy-microbusiness-density-forecasting/discussion/375802) analysis about [this notebook (Better XGB Baseline)](https://www.kaggle.com/code/titericz/better-xgb-baseline)"
   ]
  },
  {
   "attachments": {},
   "cell_type": "markdown",
   "metadata": {},
   "source": [
    "## Concepts\n",
    "\n",
    "### County\n",
    "\n",
    "According to [Wikipedia - County (United States)](https://en.wikipedia.org/wiki/County_(United_States)): a county or county equivalent is an administrative or political subdivision of a state that consists of a geographic region with specific boundaries and usually some level of governmental authority.\n",
    "\n",
    "### CFIP - County FIPS Code\n",
    "\n",
    "According to [Wikipedia - Federal Information Processing Standard](https://en.wikipedia.org/wiki/Federal_Information_Processing_Standard): a standard published by the U.S. Government for the classification of counties by state. They are like sub-regions of a state."
   ]
  },
  {
   "attachments": {},
   "cell_type": "markdown",
   "metadata": {},
   "source": [
    "## Data\n",
    "\n",
    "We will first load the dependencies and the data needed for the whole notebook."
   ]
  },
  {
   "cell_type": "code",
   "execution_count": 1,
   "metadata": {},
   "outputs": [],
   "source": [
    "import pandas as pd\n",
    "import plotly.express as px\n",
    "\n",
    "# Load the data\n",
    "train_raw = pd.read_csv('io/dataset/train.csv')"
   ]
  },
  {
   "attachments": {},
   "cell_type": "markdown",
   "metadata": {},
   "source": [
    "Let's see how the data looks like."
   ]
  },
  {
   "cell_type": "code",
   "execution_count": 4,
   "metadata": {},
   "outputs": [
    {
     "data": {
      "text/html": [
       "<div>\n",
       "<style scoped>\n",
       "    .dataframe tbody tr th:only-of-type {\n",
       "        vertical-align: middle;\n",
       "    }\n",
       "\n",
       "    .dataframe tbody tr th {\n",
       "        vertical-align: top;\n",
       "    }\n",
       "\n",
       "    .dataframe thead th {\n",
       "        text-align: right;\n",
       "    }\n",
       "</style>\n",
       "<table border=\"1\" class=\"dataframe\">\n",
       "  <thead>\n",
       "    <tr style=\"text-align: right;\">\n",
       "      <th></th>\n",
       "      <th>row_id</th>\n",
       "      <th>cfips</th>\n",
       "      <th>county</th>\n",
       "      <th>state</th>\n",
       "      <th>first_day_of_month</th>\n",
       "      <th>microbusiness_density</th>\n",
       "      <th>active</th>\n",
       "    </tr>\n",
       "  </thead>\n",
       "  <tbody>\n",
       "    <tr>\n",
       "      <th>0</th>\n",
       "      <td>1001_2019-08-01</td>\n",
       "      <td>1001</td>\n",
       "      <td>Autauga County</td>\n",
       "      <td>Alabama</td>\n",
       "      <td>2019-08-01</td>\n",
       "      <td>3.007682</td>\n",
       "      <td>1249</td>\n",
       "    </tr>\n",
       "    <tr>\n",
       "      <th>1</th>\n",
       "      <td>1001_2019-09-01</td>\n",
       "      <td>1001</td>\n",
       "      <td>Autauga County</td>\n",
       "      <td>Alabama</td>\n",
       "      <td>2019-09-01</td>\n",
       "      <td>2.884870</td>\n",
       "      <td>1198</td>\n",
       "    </tr>\n",
       "    <tr>\n",
       "      <th>2</th>\n",
       "      <td>1001_2019-10-01</td>\n",
       "      <td>1001</td>\n",
       "      <td>Autauga County</td>\n",
       "      <td>Alabama</td>\n",
       "      <td>2019-10-01</td>\n",
       "      <td>3.055843</td>\n",
       "      <td>1269</td>\n",
       "    </tr>\n",
       "    <tr>\n",
       "      <th>3</th>\n",
       "      <td>1001_2019-11-01</td>\n",
       "      <td>1001</td>\n",
       "      <td>Autauga County</td>\n",
       "      <td>Alabama</td>\n",
       "      <td>2019-11-01</td>\n",
       "      <td>2.993233</td>\n",
       "      <td>1243</td>\n",
       "    </tr>\n",
       "    <tr>\n",
       "      <th>4</th>\n",
       "      <td>1001_2019-12-01</td>\n",
       "      <td>1001</td>\n",
       "      <td>Autauga County</td>\n",
       "      <td>Alabama</td>\n",
       "      <td>2019-12-01</td>\n",
       "      <td>2.993233</td>\n",
       "      <td>1243</td>\n",
       "    </tr>\n",
       "  </tbody>\n",
       "</table>\n",
       "</div>"
      ],
      "text/plain": [
       "            row_id  cfips          county    state first_day_of_month  \\\n",
       "0  1001_2019-08-01   1001  Autauga County  Alabama         2019-08-01   \n",
       "1  1001_2019-09-01   1001  Autauga County  Alabama         2019-09-01   \n",
       "2  1001_2019-10-01   1001  Autauga County  Alabama         2019-10-01   \n",
       "3  1001_2019-11-01   1001  Autauga County  Alabama         2019-11-01   \n",
       "4  1001_2019-12-01   1001  Autauga County  Alabama         2019-12-01   \n",
       "\n",
       "   microbusiness_density  active  \n",
       "0               3.007682    1249  \n",
       "1               2.884870    1198  \n",
       "2               3.055843    1269  \n",
       "3               2.993233    1243  \n",
       "4               2.993233    1243  "
      ]
     },
     "execution_count": 4,
     "metadata": {},
     "output_type": "execute_result"
    }
   ],
   "source": [
    "train_raw.head()"
   ]
  },
  {
   "attachments": {},
   "cell_type": "markdown",
   "metadata": {},
   "source": [
    "In this dataset we don't have any missing values.\n",
    "\n",
    "The columns we will use for forecasting are:\n",
    "\n",
    "* `cfips: int` - County FIPS Code\n",
    "* `first_day_of_month: Date` - First day of the month\n",
    "* `microbusiness_density: float` - Microbusiness density (value to predict)\n",
    "\n",
    "Note: cfips is a code that identifies a county. In this dataset it is a number, but some datasets use a string with 5 characters (2 for the state and 3 for the county)."
   ]
  },
  {
   "attachments": {},
   "cell_type": "markdown",
   "metadata": {},
   "source": [
    "## Data anomalities\n",
    "\n",
    "> @start This notes were copied from [this notebook](https://www.kaggle.com/code/datark1/detailed-eda-problem-decomposition-gis)\n",
    "\n",
    "Two things to note here:\n",
    "\n",
    "I used cfips instead of counties because the counties' names are not unique in the USA. Only after combining the state and the county you can clearly identify the region.\n",
    "No all counties are in the database, more about that below.\n",
    "It seems that over years there were some changes to the number of counties, some were deleted while others created. The full list of these changes can be found on United States Census Bureau (https://www.census.gov/programs-surveys/geography/technical-documentation/county-changes.2010.html#list-tab-R3TI1GGRL2FELJQQDI). Also by worth noting that under cfips there are also independent cities which are treated as counties but appear with a different name.\n",
    "\n",
    "List of counties from 2022 can be found for example here: https://public.opendatasoft.com/explore/dataset/georef-united-states-of-america-county/table/?disjunctive.ste_code&disjunctive.ste_name&disjunctive.coty_code&disjunctive.coty_name&sort=year\n",
    "\n",
    "> @end\n",
    "\n"
   ]
  },
  {
   "attachments": {},
   "cell_type": "markdown",
   "metadata": {},
   "source": [
    "## Outliers\n",
    "\n",
    "We have some outliers in the data. I found some useful resources in some notebooks and discussions citted above.\n",
    "\n"
   ]
  }
 ],
 "metadata": {
  "kernelspec": {
   "display_name": "Python 3",
   "language": "python",
   "name": "python3"
  },
  "language_info": {
   "codemirror_mode": {
    "name": "ipython",
    "version": 3
   },
   "file_extension": ".py",
   "mimetype": "text/x-python",
   "name": "python",
   "nbconvert_exporter": "python",
   "pygments_lexer": "ipython3",
   "version": "3.8.10"
  },
  "orig_nbformat": 4,
  "vscode": {
   "interpreter": {
    "hash": "916dbcbb3f70747c44a77c7bcd40155683ae19c65e1c03b4aa3499c5328201f1"
   }
  }
 },
 "nbformat": 4,
 "nbformat_minor": 2
}
