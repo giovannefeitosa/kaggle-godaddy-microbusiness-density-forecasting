{
 "cells": [
  {
   "attachments": {},
   "cell_type": "markdown",
   "metadata": {},
   "source": [
    "# Data Preparation\n",
    "\n",
    "TODO: HANDLE ZEROED VALUES\n",
    "\n",
    "* In our test.csv we have to predict 8 months in the future\n",
    "* Kaggle will release a new test.csv with future months: March, April, May 2023\n",
    "* So we need to predict 3 months in the future for the main test\n",
    "* But we need to predict 8 months in the current test.csv\n",
    "* We could model our nn to predict the next 3 months and then merge the predictions to get 8 months\n",
    "* Parameters:\n",
    "    * We should test using a different number of lag features in the model and comparing the results\n",
    "    * We should be able to also choose the number of months to predict"
   ]
  },
  {
   "cell_type": "code",
   "execution_count": 1,
   "metadata": {},
   "outputs": [],
   "source": [
    "import pandas as pd\n",
    "import numpy as np\n",
    "import math\n",
    "\n",
    "df_train = pd.read_csv('io/dataset/train.csv')\n",
    "df_coords = pd.read_csv('io/customdata/cfips_coordinates.csv')\n",
    "\n",
    "df_train.sort_values(by=['cfips', 'first_day_of_month'], inplace=True)\n",
    "df_train.reset_index(drop=True, inplace=True)"
   ]
  },
  {
   "cell_type": "code",
   "execution_count": 2,
   "metadata": {},
   "outputs": [
    {
     "data": {
      "text/plain": [
       "row_id                   False\n",
       "cfips                    False\n",
       "county                   False\n",
       "state                    False\n",
       "first_day_of_month       False\n",
       "microbusiness_density     True\n",
       "active                    True\n",
       "dtype: bool"
      ]
     },
     "execution_count": 2,
     "metadata": {},
     "output_type": "execute_result"
    }
   ],
   "source": [
    "# There are some 0 values inside microbusiness_density and active columns\n",
    "df_train.eq(0).any()"
   ]
  },
  {
   "cell_type": "code",
   "execution_count": 3,
   "metadata": {},
   "outputs": [
    {
     "data": {
      "text/plain": [
       "3.0076818"
      ]
     },
     "execution_count": 3,
     "metadata": {},
     "output_type": "execute_result"
    }
   ],
   "source": [
    "df_train.loc[0]['microbusiness_density']"
   ]
  },
  {
   "cell_type": "code",
   "execution_count": 4,
   "metadata": {},
   "outputs": [
    {
     "name": "stdout",
     "output_type": "stream",
     "text": [
      "Number of 0 values in microbusiness_density column: 26\n"
     ]
    }
   ],
   "source": [
    "# we don't use active column, so we can ignore it\n",
    "_zeroeds = df_train.query('microbusiness_density == 0')['microbusiness_density'].count()\n",
    "print(f\"Number of 0 values in microbusiness_density column: {_zeroeds}\")"
   ]
  },
  {
   "cell_type": "code",
   "execution_count": 5,
   "metadata": {},
   "outputs": [],
   "source": [
    "# Customizable Parameters\n",
    "\n",
    "NUMBER_OF_LAGS = 3\n",
    "NUMBER_OF_PREDICTIONS = 3"
   ]
  },
  {
   "cell_type": "code",
   "execution_count": 6,
   "metadata": {},
   "outputs": [],
   "source": [
    "def prepare_train_data(df_train, df_coords, n_lag=7, n_predict=3, drop_months_before_predict=1):\n",
    "  df_copy = df_train.copy()[['cfips', 'first_day_of_month', 'microbusiness_density']]\n",
    "  df_copy['first_day_of_month'] = pd.to_datetime(df_copy['first_day_of_month'], format='%Y-%m-%d')\n",
    "  cfips = df_copy['cfips'].unique()\n",
    "  #! TODO: I SHOULD HANDLE ZEROED VALUES DIFFERENTLY\n",
    "  df_copy['microbusiness_density'] = df_copy['microbusiness_density'].replace(0, 0.0000010)\n",
    "  # predict features\n",
    "  for i in range(1+drop_months_before_predict, n_predict + 1+drop_months_before_predict):\n",
    "    df_copy[f'predict_{i}'] = df_copy.groupby(['cfips'])['microbusiness_density'].shift(-i)\n",
    "  # lag and diff features\n",
    "  for i in range(1, n_lag + 1):\n",
    "    df_copy[f'lag_{i}'] = df_copy.groupby(['cfips'])['microbusiness_density'].shift(i)\n",
    "    if i == 1:\n",
    "      df_copy[f'diff_{i}'] = df_copy['microbusiness_density'] - df_copy[f'lag_{i}']\n",
    "      df_copy[f'diffdiv_{i}'] = df_copy[f'microbusiness_density'] / df_copy[f'lag_{i}'] - 1\n",
    "    else:\n",
    "      df_copy[f'diff_{i}'] = df_copy[f'lag_{i-1}'] - df_copy[f'lag_{i}']\n",
    "      df_copy[f'diffdiv_{i}'] = df_copy[f'diff_{i}'] / df_copy[f'lag_{i}'] - 1\n",
    "    df_copy[f'diff_{i}'] = df_copy[f'diff_{i}'].abs()\n",
    "    df_copy[f'diffdiv_{i}'] = df_copy[f'diffdiv_{i}'].abs()\n",
    "  # latitude and longitude\n",
    "  for row in df_coords.itertuples():\n",
    "    if row.cfips in cfips:\n",
    "        df_copy.loc[df_copy['cfips'] == row.cfips, 'latitude'] = row.lat\n",
    "        df_copy.loc[df_copy['cfips'] == row.cfips, 'longitude'] = row.lon\n",
    "  df_copy['cfips'] = df_copy['cfips'].astype('float16')\n",
    "  # transform first_day_of_month to year and month\n",
    "  df_copy['year'] = df_copy['first_day_of_month'].dt.year.astype('float16')\n",
    "  df_copy['month'] = df_copy['first_day_of_month'].dt.month.astype('float16')\n",
    "  # dropna\n",
    "  df_copy.dropna(inplace=True)\n",
    "  df_copy.reset_index(drop=True, inplace=True)\n",
    "  # split predict columns\n",
    "  df_predict_columns = [col for col in df_copy if col.startswith('predict')]\n",
    "  df_predict = df_copy[df_predict_columns]\n",
    "  # drop columns\n",
    "  df_drop_columns = [] + df_predict_columns\n",
    "  df_copy.drop(df_drop_columns, axis=1, inplace=True)\n",
    "  #! TODO: I SHOULD HANDLE ZEROED VALUES DIFFERENTLY\n",
    "  for i in range(1, n_lag + 1):\n",
    "    df_copy[f'lag_{i}'] = df_copy[f'lag_{i}'].replace(0, 0.0000010)\n",
    "    df_copy[f'diff_{i}'] = df_copy[f'diff_{i}'].replace(0, 0.0000010)\n",
    "    df_copy[f'diffdiv_{i}'] = df_copy[f'diffdiv_{i}'].replace(0, 0.0000010)\n",
    "  # convert to float\n",
    "  #df_copy = df_copy.astype('float16')\n",
    "  # return X and y\n",
    "  return df_copy, df_predict"
   ]
  },
  {
   "cell_type": "code",
   "execution_count": 7,
   "metadata": {},
   "outputs": [],
   "source": [
    "df_prepared, df_prepared_predict = prepare_train_data(\n",
    "  df_train,\n",
    "  df_coords,\n",
    "  n_lag=NUMBER_OF_LAGS,\n",
    "  n_predict=NUMBER_OF_PREDICTIONS,\n",
    ")"
   ]
  },
  {
   "cell_type": "code",
   "execution_count": 8,
   "metadata": {},
   "outputs": [
    {
     "name": "stdout",
     "output_type": "stream",
     "text": [
      "Number of 0 values in dataset: 0\n"
     ]
    },
    {
     "data": {
      "text/plain": [
       "cfips                    False\n",
       "first_day_of_month       False\n",
       "microbusiness_density    False\n",
       "lag_1                    False\n",
       "diff_1                   False\n",
       "diffdiv_1                False\n",
       "lag_2                    False\n",
       "diff_2                   False\n",
       "diffdiv_2                False\n",
       "lag_3                    False\n",
       "diff_3                   False\n",
       "diffdiv_3                False\n",
       "latitude                 False\n",
       "longitude                False\n",
       "year                     False\n",
       "month                    False\n",
       "dtype: bool"
      ]
     },
     "execution_count": 8,
     "metadata": {},
     "output_type": "execute_result"
    }
   ],
   "source": [
    "_zeroeds = df_prepared.eq(0).any().sum()\n",
    "print(f\"Number of 0 values in dataset: {_zeroeds}\")\n",
    "\n",
    "df_prepared.eq(0).any()"
   ]
  },
  {
   "cell_type": "code",
   "execution_count": 9,
   "metadata": {},
   "outputs": [
    {
     "data": {
      "text/html": [
       "<div>\n",
       "<style scoped>\n",
       "    .dataframe tbody tr th:only-of-type {\n",
       "        vertical-align: middle;\n",
       "    }\n",
       "\n",
       "    .dataframe tbody tr th {\n",
       "        vertical-align: top;\n",
       "    }\n",
       "\n",
       "    .dataframe thead th {\n",
       "        text-align: right;\n",
       "    }\n",
       "</style>\n",
       "<table border=\"1\" class=\"dataframe\">\n",
       "  <thead>\n",
       "    <tr style=\"text-align: right;\">\n",
       "      <th></th>\n",
       "      <th>cfips</th>\n",
       "      <th>first_day_of_month</th>\n",
       "      <th>microbusiness_density</th>\n",
       "      <th>lag_1</th>\n",
       "      <th>diff_1</th>\n",
       "      <th>diffdiv_1</th>\n",
       "      <th>lag_2</th>\n",
       "      <th>diff_2</th>\n",
       "      <th>diffdiv_2</th>\n",
       "      <th>lag_3</th>\n",
       "      <th>diff_3</th>\n",
       "      <th>diffdiv_3</th>\n",
       "      <th>latitude</th>\n",
       "      <th>longitude</th>\n",
       "      <th>year</th>\n",
       "      <th>month</th>\n",
       "    </tr>\n",
       "  </thead>\n",
       "  <tbody>\n",
       "    <tr>\n",
       "      <th>100315</th>\n",
       "      <td>56032.0</td>\n",
       "      <td>2022-02-01</td>\n",
       "      <td>1.749688</td>\n",
       "      <td>1.749688</td>\n",
       "      <td>0.000001</td>\n",
       "      <td>0.000001</td>\n",
       "      <td>1.796300</td>\n",
       "      <td>0.046612</td>\n",
       "      <td>1.025949</td>\n",
       "      <td>1.760374</td>\n",
       "      <td>0.035926</td>\n",
       "      <td>0.979592</td>\n",
       "      <td>43.77916</td>\n",
       "      <td>-104.235812</td>\n",
       "      <td>2022.0</td>\n",
       "      <td>2.0</td>\n",
       "    </tr>\n",
       "    <tr>\n",
       "      <th>100316</th>\n",
       "      <td>56032.0</td>\n",
       "      <td>2022-03-01</td>\n",
       "      <td>1.767542</td>\n",
       "      <td>1.749688</td>\n",
       "      <td>0.017854</td>\n",
       "      <td>0.010204</td>\n",
       "      <td>1.749688</td>\n",
       "      <td>0.000001</td>\n",
       "      <td>1.000000</td>\n",
       "      <td>1.796300</td>\n",
       "      <td>0.046612</td>\n",
       "      <td>1.025949</td>\n",
       "      <td>43.77916</td>\n",
       "      <td>-104.235812</td>\n",
       "      <td>2022.0</td>\n",
       "      <td>3.0</td>\n",
       "    </tr>\n",
       "    <tr>\n",
       "      <th>100317</th>\n",
       "      <td>56032.0</td>\n",
       "      <td>2022-04-01</td>\n",
       "      <td>1.767542</td>\n",
       "      <td>1.767542</td>\n",
       "      <td>0.000001</td>\n",
       "      <td>0.000001</td>\n",
       "      <td>1.749688</td>\n",
       "      <td>0.017854</td>\n",
       "      <td>0.989796</td>\n",
       "      <td>1.749688</td>\n",
       "      <td>0.000001</td>\n",
       "      <td>1.000000</td>\n",
       "      <td>43.77916</td>\n",
       "      <td>-104.235812</td>\n",
       "      <td>2022.0</td>\n",
       "      <td>4.0</td>\n",
       "    </tr>\n",
       "    <tr>\n",
       "      <th>100318</th>\n",
       "      <td>56032.0</td>\n",
       "      <td>2022-05-01</td>\n",
       "      <td>1.803249</td>\n",
       "      <td>1.767542</td>\n",
       "      <td>0.035708</td>\n",
       "      <td>0.020202</td>\n",
       "      <td>1.767542</td>\n",
       "      <td>0.000001</td>\n",
       "      <td>1.000000</td>\n",
       "      <td>1.749688</td>\n",
       "      <td>0.017854</td>\n",
       "      <td>0.989796</td>\n",
       "      <td>43.77916</td>\n",
       "      <td>-104.235812</td>\n",
       "      <td>2022.0</td>\n",
       "      <td>5.0</td>\n",
       "    </tr>\n",
       "    <tr>\n",
       "      <th>100319</th>\n",
       "      <td>56032.0</td>\n",
       "      <td>2022-06-01</td>\n",
       "      <td>1.803249</td>\n",
       "      <td>1.803249</td>\n",
       "      <td>0.000001</td>\n",
       "      <td>0.000001</td>\n",
       "      <td>1.767542</td>\n",
       "      <td>0.035708</td>\n",
       "      <td>0.979798</td>\n",
       "      <td>1.767542</td>\n",
       "      <td>0.000001</td>\n",
       "      <td>1.000000</td>\n",
       "      <td>43.77916</td>\n",
       "      <td>-104.235812</td>\n",
       "      <td>2022.0</td>\n",
       "      <td>6.0</td>\n",
       "    </tr>\n",
       "  </tbody>\n",
       "</table>\n",
       "</div>"
      ],
      "text/plain": [
       "          cfips first_day_of_month  microbusiness_density     lag_1    diff_1  \\\n",
       "100315  56032.0         2022-02-01               1.749688  1.749688  0.000001   \n",
       "100316  56032.0         2022-03-01               1.767542  1.749688  0.017854   \n",
       "100317  56032.0         2022-04-01               1.767542  1.767542  0.000001   \n",
       "100318  56032.0         2022-05-01               1.803249  1.767542  0.035708   \n",
       "100319  56032.0         2022-06-01               1.803249  1.803249  0.000001   \n",
       "\n",
       "        diffdiv_1     lag_2    diff_2  diffdiv_2     lag_3    diff_3  \\\n",
       "100315   0.000001  1.796300  0.046612   1.025949  1.760374  0.035926   \n",
       "100316   0.010204  1.749688  0.000001   1.000000  1.796300  0.046612   \n",
       "100317   0.000001  1.749688  0.017854   0.989796  1.749688  0.000001   \n",
       "100318   0.020202  1.767542  0.000001   1.000000  1.749688  0.017854   \n",
       "100319   0.000001  1.767542  0.035708   0.979798  1.767542  0.000001   \n",
       "\n",
       "        diffdiv_3  latitude   longitude    year  month  \n",
       "100315   0.979592  43.77916 -104.235812  2022.0    2.0  \n",
       "100316   1.025949  43.77916 -104.235812  2022.0    3.0  \n",
       "100317   1.000000  43.77916 -104.235812  2022.0    4.0  \n",
       "100318   0.989796  43.77916 -104.235812  2022.0    5.0  \n",
       "100319   1.000000  43.77916 -104.235812  2022.0    6.0  "
      ]
     },
     "execution_count": 9,
     "metadata": {},
     "output_type": "execute_result"
    }
   ],
   "source": [
    "# list features\n",
    "# The first item should look like this:\n",
    "#           mbd       lag_1     diff_1   lag_2    diff_2    lag_3    diff_3\n",
    "#           2,993233  3,055843 -0,06261 2,88487 0,170973 3,007682 -0,122812\n",
    "df_prepared.tail()"
   ]
  },
  {
   "cell_type": "code",
   "execution_count": 10,
   "metadata": {},
   "outputs": [
    {
     "data": {
      "text/html": [
       "<div>\n",
       "<style scoped>\n",
       "    .dataframe tbody tr th:only-of-type {\n",
       "        vertical-align: middle;\n",
       "    }\n",
       "\n",
       "    .dataframe tbody tr th {\n",
       "        vertical-align: top;\n",
       "    }\n",
       "\n",
       "    .dataframe thead th {\n",
       "        text-align: right;\n",
       "    }\n",
       "</style>\n",
       "<table border=\"1\" class=\"dataframe\">\n",
       "  <thead>\n",
       "    <tr style=\"text-align: right;\">\n",
       "      <th></th>\n",
       "      <th>predict_2</th>\n",
       "      <th>predict_3</th>\n",
       "      <th>predict_4</th>\n",
       "    </tr>\n",
       "  </thead>\n",
       "  <tbody>\n",
       "    <tr>\n",
       "      <th>100315</th>\n",
       "      <td>1.767542</td>\n",
       "      <td>1.803249</td>\n",
       "      <td>1.803249</td>\n",
       "    </tr>\n",
       "    <tr>\n",
       "      <th>100316</th>\n",
       "      <td>1.803249</td>\n",
       "      <td>1.803249</td>\n",
       "      <td>1.803249</td>\n",
       "    </tr>\n",
       "    <tr>\n",
       "      <th>100317</th>\n",
       "      <td>1.803249</td>\n",
       "      <td>1.803249</td>\n",
       "      <td>1.785395</td>\n",
       "    </tr>\n",
       "    <tr>\n",
       "      <th>100318</th>\n",
       "      <td>1.803249</td>\n",
       "      <td>1.785395</td>\n",
       "      <td>1.785395</td>\n",
       "    </tr>\n",
       "    <tr>\n",
       "      <th>100319</th>\n",
       "      <td>1.785395</td>\n",
       "      <td>1.785395</td>\n",
       "      <td>1.785395</td>\n",
       "    </tr>\n",
       "  </tbody>\n",
       "</table>\n",
       "</div>"
      ],
      "text/plain": [
       "        predict_2  predict_3  predict_4\n",
       "100315   1.767542   1.803249   1.803249\n",
       "100316   1.803249   1.803249   1.803249\n",
       "100317   1.803249   1.803249   1.785395\n",
       "100318   1.803249   1.785395   1.785395\n",
       "100319   1.785395   1.785395   1.785395"
      ]
     },
     "execution_count": 10,
     "metadata": {},
     "output_type": "execute_result"
    }
   ],
   "source": [
    "df_prepared_predict.tail()"
   ]
  },
  {
   "cell_type": "code",
   "execution_count": 11,
   "metadata": {},
   "outputs": [
    {
     "data": {
      "text/plain": [
       "<AxesSubplot: xlabel='first_day_of_month'>"
      ]
     },
     "execution_count": 11,
     "metadata": {},
     "output_type": "execute_result"
    },
    {
     "data": {
      "image/png": "[encoded data removed]",
      "text/plain": [
       "<Figure size 640x480 with 1 Axes>"
      ]
     },
     "metadata": {},
     "output_type": "display_data"
    }
   ],
   "source": [
    "# TEST\n",
    "df_prepared.groupby('first_day_of_month')['diff_1'].sum().plot()"
   ]
  },
  {
   "cell_type": "code",
   "execution_count": 12,
   "metadata": {},
   "outputs": [
    {
     "data": {
      "text/plain": [
       "<AxesSubplot: xlabel='first_day_of_month'>"
      ]
     },
     "execution_count": 12,
     "metadata": {},
     "output_type": "execute_result"
    },
    {
     "data": {
      "image/png": "[encoded data removed]",
      "text/plain": [
       "<Figure size 640x480 with 1 Axes>"
      ]
     },
     "metadata": {},
     "output_type": "display_data"
    }
   ],
   "source": [
    "# TEST\n",
    "df_prepared.groupby('first_day_of_month')['diffdiv_1'].sum().plot()"
   ]
  },
  {
   "cell_type": "code",
   "execution_count": 13,
   "metadata": {},
   "outputs": [
    {
     "data": {
      "text/plain": [
       "<AxesSubplot: xlabel='first_day_of_month'>"
      ]
     },
     "execution_count": 13,
     "metadata": {},
     "output_type": "execute_result"
    },
    {
     "data": {
      "image/png": "[encoded data removed]",
      "text/plain": [
       "<Figure size 640x480 with 1 Axes>"
      ]
     },
     "metadata": {},
     "output_type": "display_data"
    }
   ],
   "source": [
    "# TEST\n",
    "df_prepared.groupby('first_day_of_month')['lag_1'].sum().plot()"
   ]
  },
  {
   "cell_type": "code",
   "execution_count": 14,
   "metadata": {},
   "outputs": [
    {
     "data": {
      "text/plain": [
       "Index(['cfips', 'first_day_of_month', 'microbusiness_density', 'lag_1',\n",
       "       'diff_1', 'diffdiv_1', 'lag_2', 'diff_2', 'diffdiv_2', 'lag_3',\n",
       "       'diff_3', 'diffdiv_3', 'latitude', 'longitude', 'year', 'month'],\n",
       "      dtype='object')"
      ]
     },
     "execution_count": 14,
     "metadata": {},
     "output_type": "execute_result"
    }
   ],
   "source": [
    "df_prepared.columns"
   ]
  },
  {
   "cell_type": "code",
   "execution_count": 15,
   "metadata": {},
   "outputs": [],
   "source": [
    "import torch\n",
    "# [torch.tensor(row.cfips, dtype=torch.float16) for row in df_prepared.itertuples()]\n",
    "\n",
    "def to_tensor(df, target):\n",
    "    cfips = torch.tensor(df['cfips'].values.astype(np.float32), dtype=torch.float32)\n",
    "    year = torch.tensor(df['year'].values.astype(np.float32), dtype=torch.float32)\n",
    "    month = torch.tensor(df['month'].values.astype(np.float32), dtype=torch.float32)\n",
    "    latitude = torch.tensor(df['latitude'].values.astype(np.float32), dtype=torch.float32)\n",
    "    longitude = torch.tensor(df['longitude'].values.astype(np.float32), dtype=torch.float32)\n",
    "    mbd = torch.tensor(df['microbusiness_density'].values.astype(np.float32), dtype=torch.float32)\n",
    "    for i in range(1, NUMBER_OF_LAGS + 1):\n",
    "        lag = torch.tensor(df[f'lag_{i}'].values.astype(np.float32), dtype=torch.float32)\n",
    "        diff = torch.tensor(df[f'diff_{i}'].values.astype(np.float32), dtype=torch.float32)\n",
    "        diffdiv = torch.tensor(df[f'diffdiv_{i}'].values.astype(np.float32), dtype=torch.float32)\n",
    "    targettensor = torch.tensor(target.values, dtype=torch.float32)\n",
    "    outputtensor = torch.stack([cfips, year, month, latitude, longitude, mbd, lag, diff, diffdiv], dim=1).to(torch.float32)\n",
    "    return outputtensor, targettensor\n",
    "\n",
    "tensor_x, tensor_y = to_tensor(df_prepared.drop('first_day_of_month', axis=1), df_prepared_predict)\n",
    "tensor_x = tensor_x.unsqueeze(0)\n",
    "tensor_y = tensor_y.unsqueeze(0)"
   ]
  },
  {
   "cell_type": "code",
   "execution_count": 16,
   "metadata": {},
   "outputs": [
    {
     "data": {
      "text/plain": [
       "(torch.Size([1, 100320, 9]), torch.Size([1, 100320, 3]))"
      ]
     },
     "execution_count": 16,
     "metadata": {},
     "output_type": "execute_result"
    }
   ],
   "source": [
    "tensor_x.shape, tensor_y.shape"
   ]
  },
  {
   "cell_type": "code",
   "execution_count": 17,
   "metadata": {},
   "outputs": [
    {
     "name": "stdout",
     "output_type": "stream",
     "text": [
      "shape hn torch.Size([1, 1, 3])\n",
      "epoch: 0, loss: 42.85672378540039\n",
      "shape hn torch.Size([1, 1, 3])\n",
      "epoch: 1, loss: 42.831825256347656\n",
      "shape hn torch.Size([1, 1, 3])\n",
      "epoch: 2, loss: 42.80694580078125\n",
      "shape hn torch.Size([1, 1, 3])\n",
      "epoch: 3, loss: 42.78208541870117\n",
      "shape hn torch.Size([1, 1, 3])\n",
      "epoch: 4, loss: 42.75724411010742\n",
      "shape hn torch.Size([1, 1, 3])\n",
      "epoch: 5, loss: 42.732418060302734\n",
      "shape hn torch.Size([1, 1, 3])\n",
      "epoch: 6, loss: 42.707618713378906\n",
      "shape hn torch.Size([1, 1, 3])\n",
      "epoch: 7, loss: 42.68282699584961\n",
      "shape hn torch.Size([1, 1, 3])\n",
      "epoch: 8, loss: 42.65806579589844\n",
      "shape hn torch.Size([1, 1, 3])\n",
      "epoch: 9, loss: 42.63332748413086\n",
      "shape hn torch.Size([1, 1, 3])\n",
      "epoch: 10, loss: 42.60860061645508\n",
      "shape hn torch.Size([1, 1, 3])\n",
      "epoch: 11, loss: 42.58389663696289\n",
      "shape hn torch.Size([1, 1, 3])\n",
      "epoch: 12, loss: 42.5592155456543\n",
      "shape hn torch.Size([1, 1, 3])\n",
      "epoch: 13, loss: 42.5345573425293\n",
      "shape hn torch.Size([1, 1, 3])\n",
      "epoch: 14, loss: 42.509918212890625\n",
      "shape hn torch.Size([1, 1, 3])\n",
      "epoch: 15, loss: 42.48530197143555\n",
      "shape hn torch.Size([1, 1, 3])\n",
      "epoch: 16, loss: 42.46070098876953\n",
      "shape hn torch.Size([1, 1, 3])\n",
      "epoch: 17, loss: 42.43613052368164\n",
      "shape hn torch.Size([1, 1, 3])\n"
     ]
    }
   ],
   "source": [
    "# https://pytorch.org/docs/stable/generated/torch.nn.GRU.html\n",
    "\n",
    "import torch\n",
    "\n",
    "input_size = tensor_x.shape[2]\n",
    "hidden_size = NUMBER_OF_PREDICTIONS\n",
    "output_size = NUMBER_OF_PREDICTIONS\n",
    "num_layers = 1\n",
    "batch_first = True\n",
    "batch_size = tensor_x.shape[0]\n",
    "\n",
    "learning_rate = 0.001\n",
    "epochs = 100\n",
    "\n",
    "class GRUModel(torch.nn.Module):\n",
    "    def __init__(self, input_size, hidden_size, num_layers, batch_first=True):\n",
    "        super(GRUModel, self).__init__()\n",
    "        self.hidden_size = hidden_size\n",
    "        self.num_layers = num_layers\n",
    "        self.batch_first = batch_first\n",
    "        self.gru = torch.nn.GRU(input_size, hidden_size, num_layers, batch_first=batch_first, bias=True)\n",
    "        self.fc = torch.nn.Linear(hidden_size, output_size)\n",
    "    \n",
    "    def forward(self, x, hn=None):\n",
    "        if hn is None:\n",
    "            hn = torch.zeros(self.num_layers, x.size(0), self.hidden_size, dtype=torch.float32)\n",
    "        out, _ = self.gru(x, hn)\n",
    "        out = self.fc(out)\n",
    "        return out, hn\n",
    "\n",
    "# rnn = torch.nn.GRU(input_size, hidden_size, num_layers, batch_first=batch_first)\n",
    "# hn = torch.zeros(num_layers, batch_size, hidden_size, dtype=torch.float32)\n",
    "rnn = GRUModel(input_size, hidden_size, num_layers, batch_first=batch_first)\n",
    "\n",
    "# todo train_loader\n",
    "train_loader = [(tensor_x, tensor_y)]\n",
    "\n",
    "criterion = torch.nn.MSELoss()\n",
    "optimizer = torch.optim.Adam(rnn.parameters(), lr=learning_rate)\n",
    "\n",
    "hn = torch.zeros(num_layers, batch_size, hidden_size, dtype=torch.float32)\n",
    "\n",
    "for epoch in range(epochs):\n",
    "    rnn.train()\n",
    "    for input_seq, target_seq in train_loader:\n",
    "        optimizer.zero_grad()\n",
    "        output, hn = rnn(input_seq, hn)\n",
    "        # loss = criterion(output.squeeze(), target_seq)\n",
    "        loss = criterion(output, target_seq)\n",
    "        loss.backward()\n",
    "        optimizer.step()\n",
    "    print(f'epoch: {epoch}, loss: {loss.item()}')\n",
    "    #for name, param in rnn.named_parameters():\n",
    "    #    if param.grad is not None:\n",
    "    #        print(name, param.grad.data.norm())\n",
    "\n",
    "# save the trained model\n",
    "torch.save(rnn, 'trained_model.pt')\n",
    "\n",
    "#with torch.no_grad():\n",
    "#    rnn.eval()\n",
    "#    test_input = tensor_x\n",
    "#    test_target = tensor_y\n",
    "#    test_output, hn = rnn(test_input, hn)\n",
    "#    print(test_output.squeeze())\n",
    "#    print(test_target.squeeze())"
   ]
  }
 ],
 "metadata": {
  "kernelspec": {
   "display_name": "Python 3",
   "language": "python",
   "name": "python3"
  },
  "language_info": {
   "codemirror_mode": {
    "name": "ipython",
    "version": 3
   },
   "file_extension": ".py",
   "mimetype": "text/x-python",
   "name": "python",
   "nbconvert_exporter": "python",
   "pygments_lexer": "ipython3",
   "version": "3.8.10"
  },
  "orig_nbformat": 4,
  "vscode": {
   "interpreter": {
    "hash": "916dbcbb3f70747c44a77c7bcd40155683ae19c65e1c03b4aa3499c5328201f1"
   }
  }
 },
 "nbformat": 4,
 "nbformat_minor": 2
}
