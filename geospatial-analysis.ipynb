{
 "cells": [
  {
   "attachments": {},
   "cell_type": "markdown",
   "metadata": {},
   "source": [
    "# Geospatial Analysis\n",
    "\n",
    "The goal of this notebook is to find the counties that are close to each other and see if there is a correlation between their microdensities."
   ]
  },
  {
   "cell_type": "code",
   "execution_count": 1,
   "metadata": {},
   "outputs": [],
   "source": [
    "import os\n",
    "import pandas as pd\n",
    "\n",
    "os.environ['PROJECT_ROOT'] = '.'\n",
    "\n",
    "# load train dataset\n",
    "traindf = pd.read_csv('io/dataset/train.csv')\n",
    "# get sorted unique cfips from train dataset\n",
    "traincfips = traindf[['cfips']].drop_duplicates().sort_values(by=['cfips']).reset_index(drop=True)\n"
   ]
  },
  {
   "attachments": {},
   "cell_type": "markdown",
   "metadata": {},
   "source": [
    "## Check the integrity of coordinates dataset\n",
    "\n",
    "Dataset location: `io/customdata/cfips_coordinates.csv`"
   ]
  },
  {
   "cell_type": "code",
   "execution_count": 2,
   "metadata": {},
   "outputs": [],
   "source": [
    "# load coordinates dataset\n",
    "coorddf = pd.read_csv('io/customdata/cfips_coordinates.csv')\n",
    "# sort by cfips (they're already unique)\n",
    "coordcfips = coorddf[['cfips']].sort_values(by=['cfips']).reset_index(drop=True)"
   ]
  },
  {
   "attachments": {},
   "cell_type": "markdown",
   "metadata": {},
   "source": [
    "Check if\n",
    "\n",
    "* coordcfips has only unique cfips"
   ]
  },
  {
   "cell_type": "code",
   "execution_count": 3,
   "metadata": {},
   "outputs": [
    {
     "name": "stdout",
     "output_type": "stream",
     "text": [
      "Length of train cfips:  3135\n",
      "Length of coordinates cfips:  3221\n",
      "[ok] All cfips in coordinates dataset are unique!\n"
     ]
    }
   ],
   "source": [
    "print(\"Length of train cfips: \", len(traincfips))\n",
    "print(\"Length of coordinates cfips: \", len(coordcfips))\n",
    "assert len(coordcfips) == len(coordcfips['cfips'].unique()), \"There is a duplicate cfips in coordcfips\"\n",
    "print(\"[ok] All cfips in coordinates dataset are unique!\")"
   ]
  },
  {
   "attachments": {},
   "cell_type": "markdown",
   "metadata": {},
   "source": [
    "Check if\n",
    "\n",
    "* coordcfips has all the cfips from train data\n",
    "* the cfips are sorted in the same order in both datasets (ignoring the missing cfips in train data)"
   ]
  },
  {
   "cell_type": "code",
   "execution_count": 4,
   "metadata": {},
   "outputs": [
    {
     "name": "stdout",
     "output_type": "stream",
     "text": [
      "Total cfips in train data:  3135\n",
      "Found length:  3135\n",
      "[ok] All training cfips are in coordinates dataset\n",
      "[ok] Both datasets are sorted correctly\n"
     ]
    }
   ],
   "source": [
    "foundlen = 0\n",
    "offset = 0\n",
    "\n",
    "# for each row in traincfips (unique train data cfips)\n",
    "for i in range(len(traincfips)):\n",
    "    # if the cfips in train data equals the cfips in coordinates data\n",
    "    if traincfips.iloc[i].item() == coordcfips.iloc[i+offset].item():\n",
    "        foundlen += 1\n",
    "    else:\n",
    "        for j in range(i+offset, len(coordcfips)):\n",
    "            if traincfips.iloc[i].item() == coordcfips.iloc[j].item():\n",
    "                offset = j - i\n",
    "                foundlen += 1\n",
    "                break\n",
    "\n",
    "print(\"Total cfips in train data: \", len(traincfips))\n",
    "print(\"Found length: \", foundlen)\n",
    "assert foundlen == len(traincfips), \"There are missing cfips in the coordinates dataset!! (io/customdata/cfips_coordinates.csv)\"\n",
    "print(\"[ok] All training cfips are in coordinates dataset\")\n",
    "print(\"[ok] Both datasets are sorted correctly\")"
   ]
  },
  {
   "attachments": {},
   "cell_type": "markdown",
   "metadata": {},
   "source": [
    "## "
   ]
  },
  {
   "attachments": {},
   "cell_type": "markdown",
   "metadata": {},
   "source": [
    "## Visualize the counties\n",
    "\n",
    "In order to check whether the counties are close to each other, we can visualize them on a map.\n",
    "\n",
    "Let's divide the map into 10x10 grid and count the number of counties in each grid.\n",
    "\n",
    "TODO: Group latitude and longitude by 10x10 grid"
   ]
  }
 ],
 "metadata": {
  "kernelspec": {
   "display_name": "Python 3",
   "language": "python",
   "name": "python3"
  },
  "language_info": {
   "codemirror_mode": {
    "name": "ipython",
    "version": 3
   },
   "file_extension": ".py",
   "mimetype": "text/x-python",
   "name": "python",
   "nbconvert_exporter": "python",
   "pygments_lexer": "ipython3",
   "version": "3.10.6"
  },
  "orig_nbformat": 4,
  "vscode": {
   "interpreter": {
    "hash": "916dbcbb3f70747c44a77c7bcd40155683ae19c65e1c03b4aa3499c5328201f1"
   }
  }
 },
 "nbformat": 4,
 "nbformat_minor": 2
}
